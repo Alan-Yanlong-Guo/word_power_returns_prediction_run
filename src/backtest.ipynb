{
 "cells": [
  {
   "cell_type": "code",
   "execution_count": 18,
   "metadata": {
    "pycharm": {
     "is_executing": false,
     "name": "#%%\n"
    }
   },
   "outputs": [],
   "source": [
    "import glob\n",
    "import pandas as pd\n",
    "import matplotlib.pyplot as plt\n",
    "import numpy as np\n",
    "import os"
   ]
  },
  {
   "cell_type": "code",
   "execution_count": 23,
   "metadata": {},
   "outputs": [],
   "source": [
    "return_df_combined = pd.read_pickle('../return_df_combined.pkl')"
   ]
  },
  {
   "cell_type": "code",
   "execution_count": 33,
   "metadata": {
    "pycharm": {
     "name": "#%%\n"
    }
   },
   "outputs": [],
   "source": [
    "# Daily returns extraction from dataframe\n",
    "\n",
    "l_ew = np.array(return_df_combined['long_equal_return'])\n",
    "s_ew = - np.array(return_df_combined['short_equal_return'])\n",
    "ls_ew = l_ew + s_ew\n",
    "l_vw = np.array(return_df_combined['long_value_return'])\n",
    "s_vw = - np.array(return_df_combined['short_value_return'])\n",
    "ls_vw = l_vw + s_vw"
   ]
  },
  {
   "cell_type": "code",
   "execution_count": 47,
   "metadata": {},
   "outputs": [
    {
     "name": "stdout",
     "output_type": "stream",
     "text": [
      "Average returns: \n",
      " \n",
      "Long/Short EW: 29.8261016109238 bps \n",
      "Long EW: 10.624160257824425 bps \n",
      "Short EW: 19.20194135309937 bps \n",
      " \n",
      "Long/Short VW: 8.618003497041904 bps \n",
      "Long VW: 4.74105985345219 bps \n",
      "Short VW: 3.876943643589713 bps \n",
      "\n"
     ]
    }
   ],
   "source": [
    "# Average returns\n",
    "\n",
    "l_ew_ar = np.mean(l_ew)\n",
    "s_ew_ar = np.mean(s_ew) \n",
    "ls_ew_ar = np.mean(ls_ew)\n",
    "l_vw_ar = np.mean(l_vw) \n",
    "s_vw_ar = np.mean(s_vw) \n",
    "ls_vw_ar = np.mean(ls_vw) \n",
    "\n",
    "print(f\"Average returns: \\n \\n\"\n",
    "      f\"Long/Short EW: {ls_ew_ar*10000} bps \\n\"\n",
    "      f\"Long EW: {l_ew_ar*10000} bps \\n\"\n",
    "      f\"Short EW: {s_ew_ar*10000} bps \\n \\n\"\n",
    "      \n",
    "      f\"Long/Short VW: {ls_vw_ar*10000} bps \\n\"\n",
    "      f\"Long VW: {l_vw_ar*10000} bps \\n\"\n",
    "      f\"Short VW: {s_vw_ar*10000} bps \\n\"\n",
    "      )"
   ]
  },
  {
   "cell_type": "code",
   "execution_count": 48,
   "metadata": {
    "scrolled": true
   },
   "outputs": [
    {
     "name": "stdout",
     "output_type": "stream",
     "text": [
      "Sharpe ratios: \n",
      " \n",
      "Long/Short EW: 4.395985503195439 \n",
      "Long EW: 1.1436269162484571 \n",
      "Short EW: 1.8458184604824948 \n",
      " \n",
      "Long/Short VW: 1.3942109429564138 \n",
      "Long VW: 0.5998441317815849 \n",
      "Short VW: 0.4183330172449055 \n",
      "\n"
     ]
    }
   ],
   "source": [
    "# Sharpe ratio calculation\n",
    "\n",
    "def sharpe_ratio(returns):\n",
    "    return np.mean(returns) / np.std(returns) * np.sqrt(252)\n",
    "\n",
    "l_ew_sr = sharpe_ratio(l_ew)\n",
    "s_ew_sr = sharpe_ratio(s_ew) \n",
    "ls_ew_sr = sharpe_ratio(ls_ew)\n",
    "l_vw_sr = sharpe_ratio(l_vw) \n",
    "s_vw_sr = sharpe_ratio(s_vw) \n",
    "ls_vw_sr = sharpe_ratio(ls_vw) \n",
    "\n",
    "print(f\"Sharpe ratios: \\n \\n\"\n",
    "      f\"Long/Short EW: {ls_ew_sr} \\n\"\n",
    "      f\"Long EW: {l_ew_sr} \\n\"\n",
    "      f\"Short EW: {s_ew_sr} \\n \\n\"\n",
    "      \n",
    "      f\"Long/Short VW: {ls_vw_sr} \\n\"\n",
    "      f\"Long VW: {l_vw_sr} \\n\"\n",
    "      f\"Short VW: {s_vw_sr} \\n\"\n",
    "      )"
   ]
  },
  {
   "cell_type": "code",
   "execution_count": 42,
   "metadata": {},
   "outputs": [],
   "source": [
    "# Calculate cumulative return\n",
    "\n",
    "long_average_return = np.array(return_df_combined['long_equal_return']) + 1\n",
    "short_average_return = -np.array(return_df_combined['short_equal_return']) + 1\n",
    "ls__average_return = long_average_return + short_average_return\n",
    "\n",
    "long_value_return = np.array(return_df_combined['long_value_return']) + 1\n",
    "short_value_return = -np.array(return_df_combined['short_value_return']) + 1\n",
    "ls_value_return = long_value_return + short_value_return\n",
    "\n",
    "cum_l_ew = np.cumprod(long_average_return)\n",
    "cum_s_ew = np.cumprod(short_average_return)\n",
    "cum_ls_ew = np.cumprod(ls__average_return)\n",
    "\n",
    "cum_l_vw = np.cumprod(long_value_return)\n",
    "cum_s_vw = np.cumprod(short_value_return)\n",
    "cum_ls_vw = np.cumprod(ls_value_return)"
   ]
  },
  {
   "cell_type": "code",
   "execution_count": null,
   "metadata": {},
   "outputs": [],
   "source": []
  }
 ],
 "metadata": {
  "kernelspec": {
   "display_name": "Python 3",
   "language": "python",
   "name": "python3"
  },
  "language_info": {
   "codemirror_mode": {
    "name": "ipython",
    "version": 3
   },
   "file_extension": ".py",
   "mimetype": "text/x-python",
   "name": "python",
   "nbconvert_exporter": "python",
   "pygments_lexer": "ipython3",
   "version": "3.7.4"
  },
  "pycharm": {
   "stem_cell": {
    "cell_type": "raw",
    "metadata": {
     "collapsed": false
    },
    "source": []
   }
  }
 },
 "nbformat": 4,
 "nbformat_minor": 1
}
